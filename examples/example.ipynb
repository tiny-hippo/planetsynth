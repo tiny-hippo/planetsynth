{
 "metadata": {
  "language_info": {
   "codemirror_mode": {
    "name": "ipython",
    "version": 3
   },
   "file_extension": ".py",
   "mimetype": "text/x-python",
   "name": "python",
   "nbconvert_exporter": "python",
   "pygments_lexer": "ipython3",
   "version": "3.9.4"
  },
  "orig_nbformat": 2,
  "kernelspec": {
   "name": "python3",
   "display_name": "Python 3.9.4 64-bit ('base': conda)"
  },
  "interpreter": {
   "hash": "53bbe4579964d28014f29cfef9f40414304ebcef1d73663cf6ec439878c98f83"
  }
 },
 "nbformat": 4,
 "nbformat_minor": 2,
 "cells": [
  {
   "source": [
    "## Generating synthetic cooling tracks for giant planets\n",
    "\n",
    "This notebook shows a few examples of how to use the PlanetSynth class to\n",
    "generate cooling tracks for giant planets.\n",
    "\n",
    "The two main methods of PlanetSynth are **synthesize** and **predict**:\n",
    "* **synthesize** calculates the radius, log(luminosity), effective temperature\n",
    "and surface gravity as they evolve at discrete times between 10 Myr and 10 Gyr.\n",
    "* **predict** calculates the radius, log(luminosity), effective temperature \n",
    "and surface gravity at a specific time (or times).\n",
    "\n",
    "The primary arguments for each method are a list or array \n",
    "of the planetary mass, bulk metallicity, atmospheric metallicity and \n",
    "log(stellar incident irradiation), in that order - let's call it planet_params. \n",
    "\n",
    "The units are Jupiter masses, mass-fraction for the metallitices and erg/s/cm$^2$ \n",
    "for the flux. The shape of planet_params can either be (4,) to calculate the\n",
    "cooling of a single planet, or (n, 4) for n planets.\n",
    "\n",
    "The following input ranges are supported:\n",
    "* Mass: $0.1 < M [M_J] < 30$\n",
    "* Metallicity: Depending on the mass\n",
    "  * $0.1 < M [M_J] < 1$ | $0 < Z < 0.8$\n",
    "  * $1 < M [M_J] < 3$ | $0 < Z < 0.5$\n",
    "  * $3 < M [M_J] < 5$ | $0 < Z < 0.2$\n",
    "  * $5 < M [M_J] < 30$ | $0 < Z < 0.04$\n",
    "* Atmospheric metallicity: $0 < Z_e < min(0.1, Z)$\n",
    "* Log(Irradiation): $1 < \\log F < 9$, $F$ in erg/s/cm$^2$ \n",
    "\n",
    "The examples below show how to use the methods. Have fun!\n",
    "\n"
   ],
   "cell_type": "markdown",
   "metadata": {}
  },
  {
   "cell_type": "code",
   "execution_count": null,
   "metadata": {},
   "outputs": [],
   "source": [
    "import numpy as np\n",
    "import matplotlib as mpl\n",
    "import matplotlib.pyplot as plt\n",
    "from planetsynth import PlanetSynth\n",
    "mpl.rcParams[\"lines.linewidth\"] = 3.0\n",
    "mpl.rcParams[\"font.size\"] = 15"
   ]
  },
  {
   "cell_type": "code",
   "execution_count": null,
   "metadata": {},
   "outputs": [],
   "source": [
    "# Simple example of calculating the cooling track for a single planet\n",
    "# using the synthesize method\n",
    "\n",
    "# create an instance of the PlanetSynth class\n",
    "# and define a sample planet\n",
    "pls = PlanetSynth(verbose=True)\n",
    "# the verbose parameter tells PlanetSynth to\n",
    "# be vocal about warnings if something is iffy\n",
    "\n",
    "M = 0.4  # planetary mass in Jupiter masses\n",
    "Z = 0.2  # planetary heavy-element mass fraction\n",
    "Zatm = 0.02\n",
    "logF = 5  # log(incident stellar irradiation) in erg/s/cm2\n",
    "planet_params = [M, Z, Zatm, logF]\n",
    "\n",
    "# synthesize the cooling of the planet along a\n",
    "# pre-defined time-array between 10 Myr and 10 Gyr\n",
    "# the result has dimensions (16, 3), and the first, second\n",
    "# and third columns are radius, log(luminosity) and effective\n",
    "# temperature, respectively\n",
    "result = pls.synthesize(planet_params)\n",
    "radius = result[:, 0]  # radius in Jupiter radius\n",
    "logL = result[:, 1]  # log(luminosity) in solar luminosity\n",
    "Teff = result[:, 2]  # effective temperature in K\n",
    "log_g = result[:, 3]  # log g in cm/s2\n",
    "\n",
    "# plot the time evolution\n",
    "logt = pls.log_time  # access the pre-defined time array\n",
    "fig, ax = plt.subplots(1, 4, figsize=(16, 4), sharex=\"row\")\n",
    "ax[0].plot(logt, radius)\n",
    "ax[0].set_xlim(left=7, right=10)\n",
    "ax[0].set_ylabel(\"Radius [R$_J$]\")\n",
    "ax[1].plot(logt, logL)\n",
    "ax[1].set_ylabel(\"log Luminosity [L$_{\\odot}$]\")\n",
    "ax[2].plot(logt, Teff)\n",
    "ax[2].set_ylabel(\"effecitve Temperature [K]\")\n",
    "ax[3].plot(logt, log_g)\n",
    "ax[3].set_ylabel(\"log g [cm/s$^2$]\")\n",
    "for a in ax:\n",
    "    a.set_xlabel(\"log Time [yr]\")\n",
    "fig.tight_layout()\n",
    "plt.show()\n"
   ]
  },
  {
   "cell_type": "code",
   "execution_count": null,
   "metadata": {},
   "outputs": [],
   "source": [
    "# Simple example of calculating the properties of a planet\n",
    "# at a specific time using the predict method\n",
    "logt = 9.5\n",
    "planet_params = [3, 0.1, 0.02, 7]\n",
    "result = pls.predict(logt, planet_params)\n",
    "print(f\"R = {result[0]:.2f} | logL = {result[1]:.2f} | Teff = {result[2]:.2f}\")"
   ]
  },
  {
   "cell_type": "code",
   "execution_count": null,
   "metadata": {},
   "outputs": [],
   "source": [
    "# planet_params can also be a np.ndarray of shape\n",
    "# (n, 4), where n is the number of planets.\n",
    "\n",
    "# create a sample of 20 planets with different masses\n",
    "num_planets = 20\n",
    "M = np.linspace(0.3, 1, num_planets)\n",
    "Z = 0.2 * np.ones_like(M)\n",
    "Z_atm = 0.04 * np.ones_like(M)\n",
    "logF = 5 * np.ones_like(M)\n",
    "planet_params = np.array([M, Z, Z_atm, logF]).T  # transpose the array to get the right shape\n",
    "\n",
    "# predict the cooling tracks for a given time array and plot the luminosity\n",
    "logt = np.linspace(9, 10)  # define a custom time array\n",
    "result = pls.predict(logt, planet_params)\n",
    "print(result.shape)\n",
    "\n",
    "fig, ax = plt.subplots(1, 1, figsize=(6, 4))\n",
    "ax.plot(logt, result[:, :, 1].T, alpha=0.75)\n",
    "ax.set_xlim(left=9, right=10)\n",
    "ax.set_xlabel(\"log Time [yr]\")\n",
    "ax.set_ylabel(\"log Luminosity [L$_{\\odot}$]\")"
   ]
  },
  {
   "cell_type": "code",
   "execution_count": null,
   "metadata": {},
   "outputs": [],
   "source": [
    "# it takes a few seconds to calculate a million planets\n",
    "num_samples = 1_000_000\n",
    "M = np.random.uniform(0.3, 30, num_samples)\n",
    "Z = np.random.uniform(0.012, 0.04, num_samples)\n",
    "Ze = np.random.uniform(0, 0.012, num_samples)\n",
    "logF = np.random.uniform(1, 7, num_samples)\n",
    "\n",
    "planet_params = np.array([M, Z, Ze, logF]).T\n",
    "%timeit pls.synthesize(planet_params)"
   ]
  },
  {
   "cell_type": "code",
   "execution_count": null,
   "metadata": {},
   "outputs": [],
   "source": []
  }
 ]
}